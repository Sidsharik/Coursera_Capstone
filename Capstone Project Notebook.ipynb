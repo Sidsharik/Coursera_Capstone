{
    "nbformat_minor": 1, 
    "metadata": {
        "language_info": {
            "pygments_lexer": "ipython3", 
            "name": "python", 
            "file_extension": ".py", 
            "nbconvert_exporter": "python", 
            "mimetype": "text/x-python", 
            "codemirror_mode": {
                "name": "ipython", 
                "version": 3
            }, 
            "version": "3.5.4"
        }, 
        "kernelspec": {
            "language": "python3", 
            "name": "python3", 
            "display_name": "Python 3.5 with Spark"
        }
    }, 
    "nbformat": 4, 
    "cells": [
        {
            "source": "Applied Data Science Capstone Project", 
            "metadata": {}, 
            "cell_type": "markdown"
        }, 
        {
            "source": "This notebook is used primarily for the capstone project of the course.", 
            "metadata": {}, 
            "cell_type": "markdown"
        }, 
        {
            "execution_count": 2, 
            "metadata": {}, 
            "source": "import pandas as pd\nimport numpy as np\n\nprint(\"Hello Capstone Project Course!\")", 
            "outputs": [
                {
                    "name": "stdout", 
                    "output_type": "stream", 
                    "text": "Hello Capstone Project Course!\n"
                }
            ], 
            "cell_type": "code"
        }, 
        {
            "execution_count": null, 
            "metadata": {}, 
            "source": "", 
            "outputs": [], 
            "cell_type": "code"
        }, 
        {
            "execution_count": null, 
            "metadata": {}, 
            "source": "", 
            "outputs": [], 
            "cell_type": "code"
        }
    ]
}